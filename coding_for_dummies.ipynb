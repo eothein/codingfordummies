{
 "cells": [
  {
   "cell_type": "markdown",
   "metadata": {},
   "source": [
    "# Polybius\n"
   ]
  },
  {
   "cell_type": "code",
   "execution_count": 1,
   "metadata": {},
   "outputs": [],
   "source": [
    "# message: list[int]\n",
    "polybius = [list(), list(\" ABCDE\"), list(\" FGHIJ\"), list(\" KLMNO\"), list(\" PQRST\"), list(\" VWXYZ\")]\n",
    "def decode(secret_message):   \n",
    "    \"\"\" secret_message: een lijst van gehele getallen die de booschap voorstellen\n",
    "        returns: de gedecodeerde boodschap volgens de methode van Polybius\n",
    "    \"\"\"\n",
    "    message = \"\"\n",
    "    for i in secret_message:\n",
    "        r = i % 10\n",
    "        c = i // 10\n",
    "        message += polybius[r][c]\n",
    "    return message\n",
    "def encode(message):\n",
    "    \"\"\" message: een string bestaande uit hoofdletters die de boodschap voorstelt die je wil encoderen\n",
    "        returns: een lijst van gehele getallen die de geëncodeerde boodschap voorstelt\n",
    "    \"\"\"\n",
    "    secret_message = []\n",
    "    for letter in message:        \n",
    "        row = next((row for row, lijst in enumerate(polybius) if letter in lijst))\n",
    "        column = polybius[row].index(letter)\n",
    "        secret_message.append(column * 10 + row)\n",
    "    return secret_message"
   ]
  },
  {
   "cell_type": "code",
   "execution_count": 2,
   "metadata": {},
   "outputs": [
    {
     "name": "stdout",
     "output_type": "stream",
     "text": [
      "FORTVNEFAVORSTHEBOLD\n"
     ]
    }
   ],
   "source": [
    "secret_message = [12,53,34,54,15,43,51,12,11,15,53,34,44,54,32,51,21,53,23,41]\n",
    "print(decode(secret_message))"
   ]
  },
  {
   "cell_type": "code",
   "execution_count": 3,
   "metadata": {},
   "outputs": [
    {
     "name": "stdout",
     "output_type": "stream",
     "text": [
      "[12, 53, 34, 54, 15, 43, 51, 12, 11, 15, 53, 34, 44, 54, 32, 51, 21, 53, 23, 41]\n"
     ]
    }
   ],
   "source": [
    "secret_message = encode(\"FORTVNEFAVORSTHEBOLD\")\n",
    "print(secret_message)"
   ]
  },
  {
   "cell_type": "markdown",
   "metadata": {},
   "source": [
    "# Caesar"
   ]
  },
  {
   "cell_type": "code",
   "execution_count": 5,
   "metadata": {},
   "outputs": [],
   "source": [
    "alfabet = \"ABCDEFGHIJKLMNOPQRSTUVWXYZ\"\n",
    "# message : String, shift : \n",
    "def encode_caesar(message, shift):\n",
    "    \"\"\" message: een string bestaande uit hoofdletters en spaties.\n",
    "                 Deze string wordt geëncodeerd.\n",
    "        shift: een geheel getal dat de shift aangeeft voor de Caesar encodering\n",
    "        returns: een geëncodeerde boodschap\n",
    "    \"\"\"   \n",
    "    secret_message = \"\"\n",
    "    for letter in message:\n",
    "        if letter != ' ':\n",
    "            plaats = alfabet.index(letter)\n",
    "            secret_message += alfabet[(plaats + shift) % 26]\n",
    "        else:\n",
    "            secret_message += ' '\n",
    "    return secret_message\n",
    "def decode_caesar(message, shift):\n",
    "    \"\"\" message: de booschap die men wel decoderen.\n",
    "        shift:   de verschuiving die gebruikt werd bij het encoderen van de booschap\n",
    "        returns: de gedecodeerde boodschap\n",
    "    \"\"\"\n",
    "    return encode_caesar(message, -shift)\n",
    "# create a dictionary of letter counts\n",
    "def count_letters(message):\n",
    "    dictionary = {}\n",
    "    for letter in message:\n",
    "        if letter != ' ':\n",
    "            if letter in dictionary:                \n",
    "                dictionary[letter] += 1\n",
    "            else:\n",
    "                dictionary[letter] = 1\n",
    "    return dictionary\n",
    "# probeert alle mogelijke sleutels\n",
    "def crack_caesar(message):\n",
    "    for i in range(1,27):\n",
    "        print(decode_caesar(message, i))\n",
    "    "
   ]
  },
  {
   "cell_type": "code",
   "execution_count": 6,
   "metadata": {},
   "outputs": [
    {
     "name": "stdout",
     "output_type": "stream",
     "text": [
      "BAD IS A PLAN WHICH CANNOT BEAR A CHANGE\n"
     ]
    }
   ],
   "source": [
    "print(decode_caesar(\"EDG LV D SODQ ZKLFK FDQQRW EHDU D FKDQJH\", 3))"
   ]
  },
  {
   "cell_type": "code",
   "execution_count": 7,
   "metadata": {},
   "outputs": [
    {
     "name": "stdout",
     "output_type": "stream",
     "text": [
      "{'R': 5, 'O': 1, 'H': 1, 'X': 6, 'D': 2, 'V': 1, 'B': 5, 'C': 6, 'K': 2, 'A': 4, 'N': 9, 'J': 4, 'T': 1, 'Q': 2, 'U': 3, 'F': 2, 'M': 1, 'I': 1, 'Y': 1, 'W': 1, 'L': 1, 'E': 1}\n"
     ]
    }
   ],
   "source": [
    "dictionary = count_letters(\"ROHXD VDBCK ANJTC QNUJF MXRCC XBNRI NYXFN ARWJU UXCQN ALJBN BXKBN AENRC\")\n",
    "print(dictionary)"
   ]
  },
  {
   "cell_type": "code",
   "execution_count": 8,
   "metadata": {},
   "outputs": [
    {
     "data": {
      "text/plain": [
       "9"
      ]
     },
     "execution_count": 8,
     "metadata": {},
     "output_type": "execute_result"
    }
   ],
   "source": [
    "ord('N') - ord('E')"
   ]
  },
  {
   "cell_type": "code",
   "execution_count": 9,
   "metadata": {},
   "outputs": [
    {
     "data": {
      "text/plain": [
       "'IFYOU MUSTB REAKT HELAW DOITT OSEIZ EPOWE RINAL LOTHE RCASE SOBSE RVEIT'"
      ]
     },
     "execution_count": 9,
     "metadata": {},
     "output_type": "execute_result"
    }
   ],
   "source": [
    "decode_caesar(\"ROHXD VDBCK ANJTC QNUJF MXRCC XBNRI NYXFN ARWJU UXCQN ALJBN BXKBN AENRC\", 9)"
   ]
  },
  {
   "cell_type": "code",
   "execution_count": 10,
   "metadata": {},
   "outputs": [
    {
     "name": "stdout",
     "output_type": "stream",
     "text": [
      "QNGWC UCABJ ZMISB PMTIE LWQBB WAMQH MXWEM ZQVIT TWBPM ZKIAM AWJAM ZDMQB\n",
      "PMFVB TBZAI YLHRA OLSHD KVPAA VZLPG LWVDL YPUHS SVAOL YJHZL ZVIZL YCLPA\n",
      "OLEUA SAYZH XKGQZ NKRGC JUOZZ UYKOF KVUCK XOTGR RUZNK XIGYK YUHYK XBKOZ\n",
      "NKDTZ RZXYG WJFPY MJQFB ITNYY TXJNE JUTBJ WNSFQ QTYMJ WHFXJ XTGXJ WAJNY\n",
      "MJCSY QYWXF VIEOX LIPEA HSMXX SWIMD ITSAI VMREP PSXLI VGEWI WSFWI VZIMX\n",
      "LIBRX PXVWE UHDNW KHODZ GRLWW RVHLC HSRZH ULQDO ORWKH UFDVH VREVH UYHLW\n",
      "KHAQW OWUVD TGCMV JGNCY FQKVV QUGKB GRQYG TKPCN NQVJG TECUG UQDUG TXGKV\n",
      "JGZPV NVTUC SFBLU IFMBX EPJUU PTFJA FQPXF SJOBM MPUIF SDBTF TPCTF SWFJU\n",
      "IFYOU MUSTB REAKT HELAW DOITT OSEIZ EPOWE RINAL LOTHE RCASE SOBSE RVEIT\n",
      "HEXNT LTRSA QDZJS GDKZV CNHSS NRDHY DONVD QHMZK KNSGD QBZRD RNARD QUDHS\n",
      "GDWMS KSQRZ PCYIR FCJYU BMGRR MQCGX CNMUC PGLYJ JMRFC PAYQC QMZQC PTCGR\n",
      "FCVLR JRPQY OBXHQ EBIXT ALFQQ LPBFW BMLTB OFKXI ILQEB OZXPB PLYPB OSBFQ\n",
      "EBUKQ IQOPX NAWGP DAHWS ZKEPP KOAEV ALKSA NEJWH HKPDA NYWOA OKXOA NRAEP\n",
      "DATJP HPNOW MZVFO CZGVR YJDOO JNZDU ZKJRZ MDIVG GJOCZ MXVNZ NJWNZ MQZDO\n",
      "CZSIO GOMNV LYUEN BYFUQ XICNN IMYCT YJIQY LCHUF FINBY LWUMY MIVMY LPYCN\n",
      "BYRHN FNLMU KXTDM AXETP WHBMM HLXBS XIHPX KBGTE EHMAX KVTLX LHULX KOXBM\n",
      "AXQGM EMKLT JWSCL ZWDSO VGALL GKWAR WHGOW JAFSD DGLZW JUSKW KGTKW JNWAL\n",
      "ZWPFL DLJKS IVRBK YVCRN UFZKK FJVZQ VGFNV IZERC CFKYV ITRJV JFSJV IMVZK\n",
      "YVOEK CKIJR HUQAJ XUBQM TEYJJ EIUYP UFEMU HYDQB BEJXU HSQIU IERIU HLUYJ\n",
      "XUNDJ BJHIQ GTPZI WTAPL SDXII DHTXO TEDLT GXCPA ADIWT GRPHT HDQHT GKTXI\n",
      "WTMCI AIGHP FSOYH VSZOK RCWHH CGSWN SDCKS FWBOZ ZCHVS FQOGS GCPGS FJSWH\n",
      "VSLBH ZHFGO ERNXG URYNJ QBVGG BFRVM RCBJR EVANY YBGUR EPNFR FBOFR EIRVG\n",
      "URKAG YGEFN DQMWF TQXMI PAUFF AEQUL QBAIQ DUZMX XAFTQ DOMEQ EANEQ DHQUF\n",
      "TQJZF XFDEM CPLVE SPWLH OZTEE ZDPTK PAZHP CTYLW WZESP CNLDP DZMDP CGPTE\n",
      "SPIYE WECDL BOKUD ROVKG NYSDD YCOSJ OZYGO BSXKV VYDRO BMKCO CYLCO BFOSD\n",
      "ROHXD VDBCK ANJTC QNUJF MXRCC XBNRI NYXFN ARWJU UXCQN ALJBN BXKBN AENRC\n"
     ]
    }
   ],
   "source": [
    "crack_caesar(\"ROHXD VDBCK ANJTC QNUJF MXRCC XBNRI NYXFN ARWJU UXCQN ALJBN BXKBN AENRC\")"
   ]
  },
  {
   "cell_type": "code",
   "execution_count": 11,
   "metadata": {},
   "outputs": [],
   "source": [
    "# message is een string\n",
    "def scytale_decode(secret_message, shift):\n",
    "    message = \"\"\n",
    "    for start in reversed(range(shift)):\n",
    "        i = start\n",
    "        while (i < len(secret_message)):\n",
    "            message += secret_message[i]\n",
    "            i += shift\n",
    "    return message            "
   ]
  },
  {
   "cell_type": "code",
   "execution_count": 62,
   "metadata": {},
   "outputs": [
    {
     "data": {
      "text/plain": [
       "'ADOUBTFULFRIENDISWORSETHANACERTAINENEMY'"
      ]
     },
     "execution_count": 62,
     "metadata": {},
     "output_type": "execute_result"
    }
   ],
   "source": [
    "message = \"ANACDDEIORSUTWBAOTIRFNSUEELNTFEHRMAIYNE\"\n",
    "scytale_decode(message, 3)"
   ]
  },
  {
   "cell_type": "code",
   "execution_count": 6,
   "metadata": {},
   "outputs": [
    {
     "data": {
      "text/plain": [
       "0"
      ]
     },
     "execution_count": 6,
     "metadata": {},
     "output_type": "execute_result"
    }
   ],
   "source": [
    "# nummer: een getal van 9 cijfers\n",
    "def controle_getal(nummer):\n",
    "    controle = 0\n",
    "    for i in range(1, 10):\n",
    "        controle += (nummer % 10) * i\n",
    "        nummer //= 10\n",
    "    return controle\n",
    "def elf_proef(nummer):\n",
    "    return controle_getal(nummer) % 11 == 0"
   ]
  }
 ],
 "metadata": {
  "kernelspec": {
   "display_name": "Python 3",
   "language": "python",
   "name": "python3"
  },
  "language_info": {
   "codemirror_mode": {
    "name": "ipython",
    "version": 3
   },
   "file_extension": ".py",
   "mimetype": "text/x-python",
   "name": "python",
   "nbconvert_exporter": "python",
   "pygments_lexer": "ipython3",
   "version": "3.7.0"
  }
 },
 "nbformat": 4,
 "nbformat_minor": 2
}
