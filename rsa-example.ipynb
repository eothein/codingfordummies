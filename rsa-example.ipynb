{
 "cells": [
  {
   "cell_type": "markdown",
   "metadata": {},
   "source": [
    "## Ilustratie van de werking van het RSA Algoritme\n",
    "\n",
    "Belangrijk! DEZE CODE DIENT ENKEL TER ILLUSTRATIE!\n",
    "NIET GEBRUIKEN VOOR DOELEINDEN WAARBIJ ECHTE VEILIGHEID VEREIST IS!"
   ]
  },
  {
   "cell_type": "code",
   "execution_count": null,
   "metadata": {},
   "outputs": [],
   "source": [
    "def extended_euclid(a, b):\n",
    "    \"\"\" a, b : 2 natuurlijk getallen.\n",
    "    \n",
    "        Berekent x, y en z zodat: ax + by = z en z = ggd(a,b)\n",
    "    \n",
    "        Returns: (x, y, z) zodat ax + by = z = ggd(a, b)\n",
    "    \"\"\"\n",
    "    r0 = a ; r1 = b\n",
    "    s0 = 1 ; s1 = 0\n",
    "    t0 = 0 ; t1 = 1\n",
    "    while r1 != 0:\n",
    "        q = r0 // r1\n",
    "        (r0, r1) = (r1, r0 - q*r1)\n",
    "        (s0, s1) = (s1, s0 - q*s1)\n",
    "        (t0, t1) = (t1, t0 - q*t1)\n",
    "    return (s0, t0, r0)"
   ]
  },
  {
   "cell_type": "code",
   "execution_count": null,
   "metadata": {},
   "outputs": [],
   "source": [
    "def inverse_mod(a, n):\n",
    "    \"\"\" a, n : natuurlijke getallen.\n",
    "    \n",
    "        Berekent de inverse van a modulu n, i.e. bepaalt b zodanig dat\n",
    "        a * b = 1 mod n.\n",
    "        \n",
    "        Returns: de inverse van a modulo n\n",
    "    \"\"\"\n",
    "    (x, y, ggd) = extended_euclid(a, n)\n",
    "    if ggd == 1:\n",
    "        return x % n\n",
    "    else:\n",
    "        print(\"Error: inverse kan niet berekend worden!\")"
   ]
  },
  {
   "cell_type": "code",
   "execution_count": null,
   "metadata": {},
   "outputs": [],
   "source": [
    "def pow_mod(x, p, m):\n",
    "    \"\"\" x, p, m: natuurlijke getallen\n",
    "    \n",
    "        Berekent x^p mod m op een efficiënte manier. Gebruikt hiervoor de halveringsmethode.\n",
    "        \n",
    "        Returns: x^p mod m\n",
    "    \"\"\"\n",
    "    if p == 0:\n",
    "        return 1\n",
    "    elif p == 1:\n",
    "        return x % m\n",
    "    else:\n",
    "        half = p // 2\n",
    "        pow_half = pow_mod(x, half, m) # Recursieve oproep\n",
    "        pow_half = (pow_half * pow_half) % m\n",
    "        if p % 2 == 0:\n",
    "            return pow_half\n",
    "        else:\n",
    "            return (pow_half * x) % m"
   ]
  },
  {
   "cell_type": "code",
   "execution_count": null,
   "metadata": {},
   "outputs": [],
   "source": [
    "import random\n",
    "def probably_prime_fermat(p, num_tries = 50):\n",
    "    \"\"\" p: het te testen getal\n",
    "        num_tries: het aantal pogingen, hoe meer pogingen hoe lager de kans \n",
    "        dat de test het foutieve antwoord geeft.\n",
    "        \n",
    "        Voor een priemgetal p getal dat a^(p-1) = 1 mod p voor alle getallen tussen \n",
    "        kleiner dan p.  Als men maw een getal a vindt waarvoor a^(p-1) niet gelijk is \n",
    "        aan 1 mod p, dan is het getal p zeker NIET priem.\n",
    "        \n",
    "        returns: True als geen bewijs werd gevonden dat p geen priemgetal is, False \n",
    "        anders.\n",
    "    \"\"\"\n",
    "    for i in range(num_tries):\n",
    "        a = random.randint(2, p-1)\n",
    "        if pow_mod(a, p - 1, p) != 1:\n",
    "            return False # zeker geen priemgetal\n",
    "    # Waarschijnlijk priem maar kan verkeerd zijn\n",
    "    return True    \n",
    "\n",
    "## Genereer een groot priemgetal\n",
    "## Start bij een groot (oneven) random getal. Probeer de reeks start, start + 2, start + 4, ...\n",
    "## tot men een priemgetal vindt. Dit zou normaalgezien tamelijk snel moeten gebeuren.\n",
    "def generate_prime(lengte, debug = False):\n",
    "    \"\"\" lengte: de lengte (in grondtal 10) van het gewenste priemgetal.\n",
    "    \n",
    "        We starten bij een groot (oneven) random getal 'start' en proberen de\n",
    "        reeks tart, start + 2, start + 4, ... tot we een getal vinden dat \n",
    "        volgens de test van Fermat een priemgetal is.\n",
    "    \n",
    "        returns: een getal dat waarschijnlijk priem is.\n",
    "    \"\"\"\n",
    "    start = random.randint(10**lengte, 10**(lengte+1))\n",
    "    if start % 2 == 0:\n",
    "        start += 1\n",
    "    if debug:\n",
    "        num = 1 ## aantal getallen geprobeerd\n",
    "    while not probably_prime_fermat(start):\n",
    "        if debug:\n",
    "            num += 1\n",
    "        start += 2\n",
    "    if debug:\n",
    "        print(\"Aantal getallen getest:\", num)\n",
    "    return start"
   ]
  },
  {
   "cell_type": "code",
   "execution_count": null,
   "metadata": {},
   "outputs": [],
   "source": [
    "def message_to_number(message):\n",
    "    \"\"\" message: een string, de boodschap\n",
    "    \n",
    "        Zet een boodschap om naar een getal.\n",
    "        Boodschap mag enkel bestaan uit letters en spaties\n",
    "        De boodschap wordt omgezet naar hoofdletters alvorens de omzetting\n",
    "        naar een getal gebeurt.\n",
    "        \n",
    "        returns: een getal dat de boodschap voorstelt\n",
    "    \"\"\"\n",
    "    letters = \" ABCDEFGHIJKLMNOPQRSTUVWXYZ\"\n",
    "    number = \"\"\n",
    "    for letter in message.upper():\n",
    "        i = letters.index(letter)\n",
    "        if (i < 10):\n",
    "            number += \"0\" + str(i)\n",
    "        else:\n",
    "            number += str(i)\n",
    "    return int(number)\n",
    "## Omgekeerde bewerking van de vorige.\n",
    "def number_to_message(number):\n",
    "    \"\"\" number: een natuurlijk getal dat een boodschap voorstelt\n",
    "        \n",
    "        Zet een getal terug om naar de boodschap volgens hetzelfde coderingsschema \n",
    "        als hierboven.\n",
    "        \n",
    "        returns: een string die de boodschap voorstelt\n",
    "    \"\"\"\n",
    "    letters = \" ABCDEFGHIJKLMNOPQRSTUVWXYZ\"\n",
    "    message = \"\"\n",
    "    while number != 0:\n",
    "        i = number % 100 \n",
    "        if i < len(letters):\n",
    "            message = letters[i] + message\n",
    "        else:\n",
    "            message += \"?\" # Om aan te duiden dat er iets fout ging\n",
    "        number //= 100\n",
    "    return message\n",
    "              \n",
    "number_to_message(message_to_number(\"A PRIME\"))    "
   ]
  },
  {
   "cell_type": "code",
   "execution_count": null,
   "metadata": {},
   "outputs": [],
   "source": [
    "boodschap = \"A PRIME\"\n",
    "print(f\"De boodschap {boodschap} wordt {message_to_number(boodschap)}\")\n",
    "m = message_to_number(boodschap)\n",
    "print(f\"Het getal {m} komt overeen met {number_to_message(m)}\")"
   ]
  },
  {
   "cell_type": "code",
   "execution_count": null,
   "metadata": {},
   "outputs": [],
   "source": [
    "# Grootste ontdekte priemgetal in 1951\n",
    "priem1951 = 20988936657440586486151264256610222593863921\n",
    "probably_prime_fermat(priem1951)"
   ]
  },
  {
   "cell_type": "code",
   "execution_count": null,
   "metadata": {},
   "outputs": [],
   "source": [
    "def generate_rsa_key(lengte = 100):\n",
    "    \"\"\" Determines a RSA keypair:\n",
    "        \n",
    "        Returns (n, e, d)                \n",
    "    \"\"\"\n",
    "    p = generate_prime(lengte)\n",
    "    q = generate_prime(lengte)\n",
    "    n = p * q\n",
    "    phi = (p-1)*(q-1)\n",
    "    e = 65537 # voor de eenvoud kiezen we altijd dezelfde e\n",
    "    (_,_, ggd) = extended_euclid(e, phi)\n",
    "    if ggd != 1:\n",
    "        return f\"Error, ggd van e={e} en phi={phi} verschillend van 1\"\n",
    "    d = inverse_mod(e, phi)\n",
    "    return (n, e, d)"
   ]
  },
  {
   "cell_type": "code",
   "execution_count": null,
   "metadata": {},
   "outputs": [],
   "source": [
    "def encrypt_rsa(message, n, e):\n",
    "    if isinstance(message, str):\n",
    "        m = message_to_number(message)\n",
    "    else:\n",
    "        m = message # we gaan ervan uit dat het nu een getal is\n",
    "    print(f\"m = {m}\")\n",
    "    if m < n:\n",
    "        c = pow_mod(m, e, n)\n",
    "        return c\n",
    "    else:\n",
    "        print(\"Error: boodschap te groot\")\n",
    "def decrypt_rsa(c, d, n):\n",
    "    m = pow_mod(c, d, n)\n",
    "    message = number_to_message(m)\n",
    "    return message"
   ]
  },
  {
   "cell_type": "code",
   "execution_count": null,
   "metadata": {},
   "outputs": [],
   "source": [
    "(n, e, d) = generate_rsa_key(lengte = 2)\n",
    "print(n, e, d)"
   ]
  },
  {
   "cell_type": "code",
   "execution_count": null,
   "metadata": {},
   "outputs": [],
   "source": [
    "c = encrypt_rsa(\"HI\", n, e)\n",
    "print(f\"Vercijferde boodschap {c}\")\n",
    "m = decrypt_rsa(c, d, n)\n",
    "print(f\"Ontcijferde boodschap {m}\")\n",
    "print(\"Ontcijferen met de verkeerde d\")\n",
    "for dd in [random.randint(2, n) for _ in range(10)]:\n",
    "    print(f\"Ontcijferde boodschap {decrypt_rsa(c,dd, n)}\")"
   ]
  },
  {
   "cell_type": "code",
   "execution_count": null,
   "metadata": {},
   "outputs": [],
   "source": [
    "def onderteken_boodschap(message, d, n):\n",
    "    return encrypt_rsa(message, d, n)"
   ]
  },
  {
   "cell_type": "code",
   "execution_count": null,
   "metadata": {},
   "outputs": [],
   "source": [
    "# Gebruikt door de verzender\n",
    "\n",
    "## OPLETTEN: werkt niet opmdat de boodschap m1 te groot kan zijn (groter dan ontvanger_n)\n",
    "#def onderteken_en_vercijfer_boodschap(message, verzender_d, verzender_n, ontvanger_e, ontvanger_n):   \n",
    "#    m1 = onderteken_boodschap(message, verzender_d, verzender_n) ## Dit werkt niet.\n",
    "#    c = encrypt_rsa(m1, ontvanger_e, ontvanger_n)\n",
    "#    return c\n",
    "# Gebruikt door de ontvanger\n",
    "#def ontcijfer_gehandtekende_boodschap(c, ontvanger_d, ontvanger_n, verzender_e, verzender_n):\n",
    "#    m = decrypt_rsa(c, ontvanger_d, ontvanger_n)\n",
    "#    m1 = decrypt_rsa(m, verzender_e, verzender_n)\n",
    "#    return number_to_message(m1)\n",
    "    "
   ]
  },
  {
   "cell_type": "code",
   "execution_count": null,
   "metadata": {},
   "outputs": [],
   "source": []
  }
 ],
 "metadata": {
  "kernelspec": {
   "display_name": "Python 3",
   "language": "python",
   "name": "python3"
  },
  "language_info": {
   "codemirror_mode": {
    "name": "ipython",
    "version": 3
   },
   "file_extension": ".py",
   "mimetype": "text/x-python",
   "name": "python",
   "nbconvert_exporter": "python",
   "pygments_lexer": "ipython3",
   "version": "3.7.0"
  }
 },
 "nbformat": 4,
 "nbformat_minor": 2
}
