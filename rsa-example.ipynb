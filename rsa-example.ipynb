{
 "cells": [
  {
   "cell_type": "markdown",
   "metadata": {},
   "source": [
    "## RSA\n",
    "\n",
    "Belangrijk! DEZE CODE DIENT ENKEL TER ILLUSTRATIE!\n",
    "NIET GEBRUIKEN VOOR DOELEINDEN WAARBIJ ECHTE VEILIGHEID VEREIST IS!"
   ]
  },
  {
   "cell_type": "code",
   "execution_count": 9,
   "metadata": {},
   "outputs": [],
   "source": [
    "## Berekent x, y en z zodat: ax + by = z en z = ggd(a,b)\n",
    "def extended_euclid(a, b):\n",
    "    r0 = a ; r1 = b\n",
    "    s0 = 1 ; s1 = 0\n",
    "    t0 = 0 ; t1 = 1\n",
    "    while r1 != 0:\n",
    "        q = r0 // r1\n",
    "        (r0, r1) = (r1, r0 - q*r1)\n",
    "        (s0, s1) = (s1, s0 - q*s1)\n",
    "        (t0, t1) = (t1, t0 - q*t1)\n",
    "    return (s0, t0, r0)"
   ]
  },
  {
   "cell_type": "code",
   "execution_count": 15,
   "metadata": {},
   "outputs": [],
   "source": [
    "## Berekent de inverse modulo n\n",
    "def inverse_mod(x, n):\n",
    "    (a, b, ggd) = extended_euclid(x, n)\n",
    "    if ggd == 1:\n",
    "        return a % n\n",
    "    else:\n",
    "        print(\"Error: inverse kan niet berekend worden!\")"
   ]
  },
  {
   "cell_type": "code",
   "execution_count": 19,
   "metadata": {},
   "outputs": [],
   "source": [
    "## Berekent x^p mod m op een efficiënte manier.  Gebruikt de halveringsmethode.\n",
    "## x : number to exponentiate\n",
    "## p : exponent\n",
    "## m : modulus\n",
    "def pow_mod(x, p, m):\n",
    "    if p == 0:\n",
    "        return 1\n",
    "    elif p == 1:\n",
    "        return x % m\n",
    "    else:\n",
    "        half = p // 2\n",
    "        pow_half = pow_mod(x, half, m)\n",
    "        pow_half = (pow_half * pow_half) % m\n",
    "        if p % 2 == 0:\n",
    "            return pow_half\n",
    "        else:\n",
    "            return (pow_half * x) % m"
   ]
  },
  {
   "cell_type": "code",
   "execution_count": 91,
   "metadata": {},
   "outputs": [],
   "source": [
    "## Is een getal waarschijnlijk priem ?\n",
    "## We gebruiken de Fermat test: voor een priemgetal p geldt dat a^(p-1) = 1 mod p\n",
    "## Als men maw een getal a vindt (1 < a < p) waavoor a^(p-1) != 1 dan is p zeker NIET priem.\n",
    "import random\n",
    "def probably_prime_fermat(p, num_tries = 50):\n",
    "    for i in range(num_tries):\n",
    "        a = random.randint(2, p-1)\n",
    "        if pow_mod(a, p - 1, p) != 1:\n",
    "            return False # zeker geen priemgetal\n",
    "    # Waarschijnlijk priem maar kan verkeerd zijn\n",
    "    return True    \n",
    "\n",
    "## Genereer een groot priemgetal\n",
    "## Start bij een groot (oneven) random getal. Probeer de reeks start, start + 2, start + 4, ...\n",
    "## tot men een priemgetal vindt. Dit zou normaalgezien tamelijk snel moeten gebeuren.\n",
    "def generate_prime(lengte):\n",
    "    start = random.randint(10**lengte, 100**lengte)\n",
    "    if start % 2 == 0:\n",
    "        start += 1\n",
    "    # num = 1 ## aantal getallen geprobeerd\n",
    "    while not probably_prime_fermat(start):\n",
    "        # num += 1\n",
    "        start += 2\n",
    "    # print(\"Aantal getallen getest:\", num)\n",
    "    return start"
   ]
  },
  {
   "cell_type": "code",
   "execution_count": 65,
   "metadata": {},
   "outputs": [
    {
     "data": {
      "text/plain": [
       "'A PRIME'"
      ]
     },
     "execution_count": 65,
     "metadata": {},
     "output_type": "execute_result"
    }
   ],
   "source": [
    "## Zet een boodschap om naar een getal.\n",
    "## Boodschap mag enkel bestaan uit letters en spaties\n",
    "## De boodschap wordt omgezet naar hoofdletters alvorens de omzetting\n",
    "## naar een getal gebeurt.\n",
    "def message_to_number(message):\n",
    "    letters = \" ABCDEFGHIJKLMNOPQRSTUVWXYZ\"\n",
    "    number = \"\"\n",
    "    for letter in message.upper():\n",
    "        i = letters.index(letter)\n",
    "        if (i < 10):\n",
    "            number += \"0\" + str(i)\n",
    "        else:\n",
    "            number += str(i)\n",
    "    return int(number)\n",
    "## Omgekeerde bewerking van de vorige.\n",
    "def number_to_message(number):\n",
    "    letters = \" ABCDEFGHIJKLMNOPQRSTUVWXYZ\"\n",
    "    message = \"\"\n",
    "    while number != 0:\n",
    "        i = number % 100        \n",
    "        message = letters[i] + message\n",
    "        number //= 100\n",
    "    return message\n",
    "              \n",
    "number_to_message(message_to_number(\"A PRIME\"))    "
   ]
  },
  {
   "cell_type": "code",
   "execution_count": 35,
   "metadata": {},
   "outputs": [
    {
     "data": {
      "text/plain": [
       "False"
      ]
     },
     "execution_count": 35,
     "metadata": {},
     "output_type": "execute_result"
    }
   ],
   "source": [
    "probably_prime_fermat(98777056456123)"
   ]
  },
  {
   "cell_type": "code",
   "execution_count": 66,
   "metadata": {},
   "outputs": [],
   "source": [
    "p = generate_prime(100)\n",
    "q = generate_prime(102)\n",
    "n = p * q\n",
    "phi = (p-1)*(q-1)\n",
    "e = 65537\n",
    "d = inverse_mod(e, phi)"
   ]
  },
  {
   "cell_type": "code",
   "execution_count": 70,
   "metadata": {},
   "outputs": [
    {
     "name": "stdout",
     "output_type": "stream",
     "text": [
      "Ontvangen boodschap: DIT IS EEN TEST\n"
     ]
    }
   ],
   "source": [
    "m = message_to_number(\"dit is een test\")\n",
    "if m < n:\n",
    "    c = pow_mod(m, e, n)\n",
    "    mm = pow_mod(c, d, n)   \n",
    "    print(\"Ontvangen boodschap:\", number_to_message(mm))\n",
    "else:\n",
    "    print(\"Boodschap te groot\")"
   ]
  },
  {
   "cell_type": "code",
   "execution_count": 90,
   "metadata": {},
   "outputs": [
    {
     "name": "stdout",
     "output_type": "stream",
     "text": [
      "Aantal getallen getest: 320\n",
      "Aantal getallen getest: 1057\n"
     ]
    }
   ],
   "source": [
    "p2 = generate_prime(100)\n",
    "q2 = generate_prime(102)\n",
    "n2 = p2 * q2\n",
    "phi2 = (p2 - 1) * (q2 - 1)\n",
    "e2 = 65537\n",
    "d2 = inverse_mod(e2, phi2)"
   ]
  },
  {
   "cell_type": "code",
   "execution_count": 79,
   "metadata": {},
   "outputs": [
    {
     "name": "stdout",
     "output_type": "stream",
     "text": [
      "Verzonden boodschap 8414002924703389712112863545548103029678411615587145635026433409314941920516853701990684883987076194940476970182062334020544963560165192769125703201606159935273815268678185576791236157179889766244876856691686077695124821971806995423569933353130180958885856359811961067415007910919791035040478287339016916131229794929028810043413935782667590858442502988402121435900722253225476119538925236203842271329732\n",
      "Ontvangen: DIT IS GETEKEND\n"
     ]
    }
   ],
   "source": [
    "m = message_to_number(\"dit is getekend\")\n",
    "m1 = pow_mod(m, d2, n2) # ondertekenen met private sleutel\n",
    "c = pow_mod(m1, e, n)\n",
    "print(\"Verzonden boodschap\", c)\n",
    "mm1 = pow_mod(c, d, n) # ontcijfer\n",
    "mmm1 = pow_mod(mm1, e2, n2)\n",
    "print(\"Ontvangen:\", number_to_message(mmm1))"
   ]
  },
  {
   "cell_type": "code",
   "execution_count": null,
   "metadata": {},
   "outputs": [],
   "source": []
  }
 ],
 "metadata": {
  "kernelspec": {
   "display_name": "Python 3",
   "language": "python",
   "name": "python3"
  },
  "language_info": {
   "codemirror_mode": {
    "name": "ipython",
    "version": 3
   },
   "file_extension": ".py",
   "mimetype": "text/x-python",
   "name": "python",
   "nbconvert_exporter": "python",
   "pygments_lexer": "ipython3",
   "version": "3.6.4"
  }
 },
 "nbformat": 4,
 "nbformat_minor": 2
}
